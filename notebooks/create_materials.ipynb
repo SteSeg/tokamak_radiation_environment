{
 "cells": [
  {
   "cell_type": "markdown",
   "metadata": {},
   "source": [
    "# Create or import openmc materials"
   ]
  },
  {
   "cell_type": "code",
   "execution_count": 1,
   "metadata": {},
   "outputs": [],
   "source": [
    "import openmc\n",
    "import tokamak_radiation_environment as tre"
   ]
  },
  {
   "cell_type": "markdown",
   "metadata": {},
   "source": [
    "## Example with FLiBe"
   ]
  },
  {
   "cell_type": "markdown",
   "metadata": {},
   "source": [
    "### Classic openmc material maker with Python API\n",
    "More about it in [openmc.Material](https://docs.openmc.org/en/stable/pythonapi/generated/openmc.Material.html#openmc.Material) and [example notebook](https://nbviewer.org/github/openmc-dev/openmc-notebooks/blob/main/pincell.ipynb)"
   ]
  },
  {
   "cell_type": "code",
   "execution_count": 2,
   "metadata": {},
   "outputs": [],
   "source": [
    "# classic openmc material maker\n",
    "\n",
    "# Instantiate material\n",
    "flibe = openmc.Material(name='flibe')\n",
    "# Add elements\n",
    "flibe.add_element('F', 4.0, 'ao')\n",
    "flibe.add_element('Li', 2.0, 'ao')\n",
    "flibe.add_element('Be', 1.0, 'ao')\n",
    "# Add density\n",
    "flibe.set_density('g/cm3', 1.960)\n",
    "# Add temperature (optional)\n",
    "flibe.temperature = 300  # K\n",
    "\n",
    "# insert in material list\n",
    "materials = openmc.Materials([flibe])"
   ]
  },
  {
   "cell_type": "code",
   "execution_count": 3,
   "metadata": {},
   "outputs": [
    {
     "data": {
      "text/plain": [
       "Material\n",
       "\tID             =\t35\n",
       "\tName           =\tflibe\n",
       "\tTemperature    =\t300\n",
       "\tDensity        =\t1.96 [g/cm3]\n",
       "\tVolume         =\tNone [cm^3]\n",
       "\tS(a,b) Tables  \n",
       "\tNuclides       \n",
       "\tF19            =\t4.0          [ao]\n",
       "\tLi6            =\t0.15178      [ao]\n",
       "\tLi7            =\t1.84822      [ao]\n",
       "\tBe9            =\t1.0          [ao]"
      ]
     },
     "execution_count": 3,
     "metadata": {},
     "output_type": "execute_result"
    }
   ],
   "source": [
    "# Visualize\n",
    "\n",
    "flibe"
   ]
  },
  {
   "cell_type": "markdown",
   "metadata": {},
   "source": [
    "### Tokamak Radiation Environment\n",
    "This package has a file called [materials.py](https://github.com/SteSeg/tokamak_radiation_environment/blob/master/src/tokamak_radiation_environment/materials.py) that is a database of fusion-relevan materials for openmc. In such files materials are defined exactly as flibe is defined here above. They are then easily importable.\n",
    "Among the materials available there are:\n",
    "- Lithium, FLiBe, Lithium-Lead, FLiNaK\n",
    "- Tungsten, Beryllium, Silver\n",
    "- SS316L, Inconel718, Nitronic50, Hastelloy-c276 V4Cr4Ti, eurofer97\n",
    "- B4C, WC, WB4\n",
    "- Nb3Sn, YBCO\n",
    "\n",
    "And many others."
   ]
  },
  {
   "cell_type": "code",
   "execution_count": 4,
   "metadata": {},
   "outputs": [
    {
     "name": "stdout",
     "output_type": "stream",
     "text": [
      "dt_plasma\n",
      "tungsten\n",
      "beryllium\n",
      "copper\n",
      "silver\n",
      "PbSn_solder\n",
      "ss304\n",
      "ss316L\n",
      "inconel718\n",
      "nitronic50\n",
      "hastelloy_c276\n",
      "v4cr4ti\n",
      "eurofer97\n",
      "flibe\n",
      "flinak\n",
      "flinabe\n",
      "lithium\n",
      "pbli\n",
      "liflibrnabr\n",
      "liflibrnaf\n",
      "lii\n",
      "lifnafrzf4\n",
      "b4c\n",
      "zrh2\n",
      "zrb\n",
      "wc\n",
      "wb\n",
      "wb4\n",
      "w2b4\n",
      "Fiberglass_type_e\n",
      "nb3sn\n",
      "ybco\n",
      "winding_pack\n"
     ]
    }
   ],
   "source": [
    "# List all materials available in the tre.materials database\n",
    "tre.materials.list_all()"
   ]
  },
  {
   "cell_type": "code",
   "execution_count": 5,
   "metadata": {},
   "outputs": [],
   "source": [
    "# Import flibe from tokamak_radiation_environmnent - materials\n",
    "\n",
    "# import\n",
    "flibe_from_tre = tre.materials.flibe\n",
    "\n",
    "# insert in material list\n",
    "materials = openmc.Materials([flibe_from_tre])"
   ]
  },
  {
   "cell_type": "code",
   "execution_count": 6,
   "metadata": {},
   "outputs": [
    {
     "data": {
      "text/plain": [
       "Material\n",
       "\tID             =\t14\n",
       "\tName           =\tflibe\n",
       "\tTemperature    =\tNone\n",
       "\tDensity        =\t1.96 [g/cm3]\n",
       "\tVolume         =\tNone [cm^3]\n",
       "\tS(a,b) Tables  \n",
       "\tNuclides       \n",
       "\tF19            =\t4.0          [ao]\n",
       "\tLi6            =\t0.15178      [ao]\n",
       "\tLi7            =\t1.84822      [ao]\n",
       "\tBe9            =\t1.0          [ao]"
      ]
     },
     "execution_count": 6,
     "metadata": {},
     "output_type": "execute_result"
    }
   ],
   "source": [
    "# Visualize\n",
    "\n",
    "flibe_from_tre"
   ]
  },
  {
   "cell_type": "code",
   "execution_count": null,
   "metadata": {},
   "outputs": [],
   "source": []
  }
 ],
 "metadata": {
  "kernelspec": {
   "display_name": "openmc_env",
   "language": "python",
   "name": "python3"
  },
  "language_info": {
   "codemirror_mode": {
    "name": "ipython",
    "version": 3
   },
   "file_extension": ".py",
   "mimetype": "text/x-python",
   "name": "python",
   "nbconvert_exporter": "python",
   "pygments_lexer": "ipython3",
   "version": "3.10.8"
  },
  "orig_nbformat": 4
 },
 "nbformat": 4,
 "nbformat_minor": 2
}
