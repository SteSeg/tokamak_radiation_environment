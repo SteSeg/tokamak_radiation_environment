{
 "cells": [
  {
   "cell_type": "markdown",
   "metadata": {},
   "source": [
    "# Create components in the TF coil group"
   ]
  },
  {
   "cell_type": "markdown",
   "metadata": {},
   "source": [
    "The \"TF coil group\" is just a convention used in this package. It contains:\n",
    "- The superconductor component (PFCoilMagnet)\n",
    "- The thermal insulation component (PFCoilInsulation)\n",
    "- The case/structure body component (PFCoilCase)\n",
    "\n",
    "In the future some more versatility will be added:\n",
    "- Toroidal and poloidal thicknesses can be different"
   ]
  },
  {
   "cell_type": "code",
   "execution_count": 1,
   "metadata": {},
   "outputs": [],
   "source": [
    "import openmc\n",
    "import tokamak_radiation_environment as tre\n",
    "import matplotlib.pyplot as plt"
   ]
  },
  {
   "cell_type": "markdown",
   "metadata": {},
   "source": [
    "### Disclaimer \n",
    "\n",
    "Leghts are in [cm]\n",
    "\n",
    "All the components proposed here are built with the [openmc.model.Polygon](https://docs.openmc.org/en/stable/pythonapi/generated/openmc.model.Polygon.html?highlight=polygon) class of openmc. It is then possible to directly use that class for more versatility already.\n",
    "\n",
    "The [openmc.model.Polygon](https://docs.openmc.org/en/stable/pythonapi/generated/openmc.model.Polygon.html?highlight=polygon) class requires a list of points coordinates that will be connected by lines. Coordinates are given by a couple of floating numbers and can refer to any of the 'xy', 'xz', 'yz' or 'rz' planes. The polygon gets then 'extruded' on the direction perpendicular to the reference plane for an undefined extension. In the case of 'rz' plane the extrusion is revolved around the z plane which is helpful in order to design toroidal geometries."
   ]
  },
  {
   "cell_type": "code",
   "execution_count": 2,
   "metadata": {},
   "outputs": [],
   "source": [
    "# import materials\n",
    "ss316L = tre.materials.ss316L\n",
    "windingpack = tre.materials.windingpack\n",
    "fiberglass = tre.materials.fiberglass"
   ]
  },
  {
   "cell_type": "markdown",
   "metadata": {},
   "source": [
    "## Component objects"
   ]
  },
  {
   "cell_type": "markdown",
   "metadata": {},
   "source": [
    "All the components have a \"angle\" argument that allows the user build just a slice of the tokamak using cutter planes perpendicular to the 'xy' plane. The angle must be a tuple of two angles defined in degrees.\n",
    "\n",
    "The TFCoilMagnet component needs the nodes coordinates (in 'rz' plane by default) for the magnet inner boundary. The outer buoundary will be given by offsetting those nodes outwards according to the magnet thickness. All the other components take the magnet nodes and offset them autwards according to their thickness provided by the user.\n",
    "\n",
    "We here provide an easy example with the ARC-class nodes."
   ]
  },
  {
   "cell_type": "code",
   "execution_count": 3,
   "metadata": {},
   "outputs": [],
   "source": [
    "tf_nodes = (\n",
    "    [578, 0],\n",
    "    [576, 32],\n",
    "    [567, 71],\n",
    "    [524, 220],\n",
    "    [443, 314],\n",
    "    [352, 373],\n",
    "    [259, 381],\n",
    "    [167, 362],\n",
    "    [107, 302],\n",
    "    [107, -302],\n",
    "    [167, -362],\n",
    "    [259, -381],\n",
    "    [352, -373],\n",
    "    [443, -314],\n",
    "    [524, -220],\n",
    "    [567, -71],\n",
    "    [576, -32]\n",
    ")"
   ]
  },
  {
   "cell_type": "markdown",
   "metadata": {},
   "source": [
    "#### Magnet component"
   ]
  },
  {
   "cell_type": "markdown",
   "metadata": {},
   "source": [
    "It is possible to rotate the magnet according to the \"rotation_angle\" argument. It will be in degrees and can be rotated counterclockwise around the z-axis."
   ]
  },
  {
   "cell_type": "code",
   "execution_count": 4,
   "metadata": {},
   "outputs": [],
   "source": [
    "tf_magnet = tre.components.TFCoilMagnet(inner_nodes=tf_nodes, thickness=30, material=windingpack, angle=None, rotation_angle=0)"
   ]
  },
  {
   "cell_type": "markdown",
   "metadata": {},
   "source": [
    "In OpenMC with constructive solid geometry every body has its surfaces, its region and its cell. With 'tre' it is possible to extract all of them. Cells being the most important for the simulation."
   ]
  },
  {
   "cell_type": "code",
   "execution_count": 5,
   "metadata": {},
   "outputs": [
    {
     "name": "stdout",
     "output_type": "stream",
     "text": [
      "Surfaces: (<Polygon at 0x7f1fbb397c70>, <Polygon at 0x7f1fbb2685b0>, Surface\n",
      "\tID             =\t101\n",
      "\tName           =\t\n",
      "\tType           =\tplane\n",
      "\tBoundary       =\ttransmission\n",
      "\tCoefficients   \n",
      "a               =\t0.0\n",
      "b               =\t1.0\n",
      "c               =\t0.0\n",
      "d               =\t-30\n",
      ", Surface\n",
      "\tID             =\t103\n",
      "\tName           =\t\n",
      "\tType           =\tplane\n",
      "\tBoundary       =\ttransmission\n",
      "\tCoefficients   \n",
      "a               =\t0.0\n",
      "b               =\t1.0\n",
      "c               =\t0.0\n",
      "d               =\t30\n",
      ", Surface\n",
      "\tID             =\t105\n",
      "\tName           =\t\n",
      "\tType           =\tplane\n",
      "\tBoundary       =\ttransmission\n",
      "\tCoefficients   \n",
      "a               =\t1.0\n",
      "b               =\t0.0\n",
      "c               =\t0.0\n",
      "d               =\t0\n",
      ")\n",
      "Region: (~((106 ((107 108) | -108) ((109 -110) | 110) ((111 -112) | 112) (-113 114) (-115 116) (-117 -118) ((119 120) | -120) (-121 -122) (-123 -124) (-125 -126) (-127 128) (-129 130) (-131 132) (-133 134) (-135 -136) (-137 -138))) ((277 ((278 279) | -279) ((280 -281) | 281) ((282 -283) | 283) (-284 285) (-286 287) (-288 -289) ((290 291) | -291) (-292 -293) (-294 -295) (-296 -297) (-298 299) (-300 301) (-302 303) (-304 305) (-306 -307) (-308 -309))) 416 -523 630)\n",
      "Cell: Cell\n",
      "\tID             =\t1\n",
      "\tName           =\t\n",
      "\tFill           =\tMaterial 34\n",
      "\tRegion         =\t(~((631 ((632 633) | -633) ((634 -635) | 635) ((636 -637) | 637) (-638 639) (-640 641) (-642 -643) ((644 645) | -645) (-646 -647) (-648 -649) (-650 -651) (-652 653) (-654 655) (-656 657) (-658 659) (-660 -661) (-662 -663))) ((802 ((803 804) | -804) ((805 -806) | 806) ((807 -808) | 808) (-809 810) (-811 812) (-813 -814) ((815 816) | -816) (-817 -818) (-819 -820) (-821 -822) (-823 824) (-825 826) (-827 828) (-829 830) (-831 -832) (-833 -834))) 941 -1048 1155)\n",
      "\tRotation       =\tNone\n",
      "\tTemperature    =\tNone\n",
      "\tTranslation    =\tNone\n",
      "\tVolume         =\tNone\n",
      "\n"
     ]
    }
   ],
   "source": [
    "print(f'Surfaces: {tf_magnet.surfaces}')\n",
    "print(f'Region: {tf_magnet.region}')\n",
    "print(f'Cell: {tf_magnet.cell}')"
   ]
  },
  {
   "cell_type": "markdown",
   "metadata": {},
   "source": [
    "#### Insulation component\n",
    "\n",
    "\n",
    "The insulation uses the same magnet's nodes from which it adds the insulation thickness in order to find the outer insulation surface. It then requires the magnet component as argument in order to extract the nodes."
   ]
  },
  {
   "cell_type": "code",
   "execution_count": 6,
   "metadata": {},
   "outputs": [],
   "source": [
    "insulation = tre.components.TFCoilInsulation(tf_coil_magnet=tf_magnet, thickness=10, material=fiberglass, angle=None)"
   ]
  },
  {
   "cell_type": "markdown",
   "metadata": {},
   "source": [
    "#### Case component\n",
    "The case uses the same magnet's nodes from which it adds the insulation thickness and the case thickness in order to find the outer insulation surface. It then requires the magnet component and the insulation component as arguments in order to extract nodes and thickness."
   ]
  },
  {
   "cell_type": "code",
   "execution_count": 7,
   "metadata": {},
   "outputs": [],
   "source": [
    "case = tre.components.TFCoilCase(tf_coil_magnet=tf_magnet, thickness=20, material=ss316L, tf_coil_insulation=insulation, angle=None)"
   ]
  },
  {
   "cell_type": "markdown",
   "metadata": {},
   "source": [
    "## TF coil group function\n",
    "The TF coil group function helps to generate all the component objects in the PF coil in just one call. It can used as alternative to the workflow that builds component by component presented just above.\n",
    "It is necessary to provide:\n",
    "- The magnet componet nodes\n",
    "- The magnet component material\n",
    "- The insulation component thickness\n",
    "- The insulation component material\n",
    "- The case component thickness\n",
    "- The case component material\n",
    "\n",
    "Here we add other 3 rotated TF magnets to show how the \"degrees\" feature works."
   ]
  },
  {
   "cell_type": "code",
   "execution_count": 8,
   "metadata": {},
   "outputs": [],
   "source": [
    "tf_magnet, insulation, case = tre.components.tfcoil_group(\n",
    "    magnet_inner_nodes=tf_nodes, magnet_thickness=10, magnet_material=windingpack,\n",
    "    insulation_thickness=10, insulation_material=fiberglass,\n",
    "    case_thickness=20, case_material=ss316L,\n",
    "    angle=None, rotation_angle=0)\n",
    "\n",
    "tf_magnet_90, insulation_90, case_90 = tre.components.tfcoil_group(\n",
    "    magnet_inner_nodes=tf_nodes, magnet_thickness=10, magnet_material=windingpack,\n",
    "    insulation_thickness=10, insulation_material=fiberglass,\n",
    "    case_thickness=20, case_material=ss316L,\n",
    "    angle=None, rotation_angle=90)\n",
    "\n",
    "tf_magnet_180, insulation_180, case_180 = tre.components.tfcoil_group(\n",
    "    magnet_inner_nodes=tf_nodes, magnet_thickness=10, magnet_material=windingpack,\n",
    "    insulation_thickness=10, insulation_material=fiberglass,\n",
    "    case_thickness=20, case_material=ss316L,\n",
    "    angle=None, rotation_angle=180)\n",
    "\n",
    "tf_magnet_270, insulation_270, case_270 = tre.components.tfcoil_group(\n",
    "    magnet_inner_nodes=tf_nodes, magnet_thickness=10, magnet_material=windingpack,\n",
    "    insulation_thickness=10, insulation_material=fiberglass,\n",
    "    case_thickness=20, case_material=ss316L,\n",
    "    angle=None, rotation_angle=270)"
   ]
  },
  {
   "cell_type": "markdown",
   "metadata": {},
   "source": [
    "### Collect the cells in openmc geometry"
   ]
  },
  {
   "cell_type": "code",
   "execution_count": 9,
   "metadata": {},
   "outputs": [],
   "source": [
    "root = [tf_magnet.cell, insulation.cell, case.cell, \n",
    "        tf_magnet_90.cell, insulation_90.cell, case_90.cell,\n",
    "        tf_magnet_180.cell, insulation_180.cell, case_180.cell,\n",
    "        tf_magnet_270.cell, insulation_270.cell, case_270.cell]\n",
    "\n",
    "geometry = openmc.Geometry(root=root)"
   ]
  },
  {
   "cell_type": "markdown",
   "metadata": {},
   "source": [
    "## Visualize geometry"
   ]
  },
  {
   "cell_type": "code",
   "execution_count": 11,
   "metadata": {},
   "outputs": [
    {
     "data": {
      "image/png": "[encoded data removed]",
      "text/plain": [
       "<Figure size 516.129x519.481 with 1 Axes>"
      ]
     },
     "metadata": {},
     "output_type": "display_data"
    },
    {
     "data": {
      "image/png": "[encoded data removed]",
      "text/plain": [
       "<Figure size 516.129x519.481 with 1 Axes>"
      ]
     },
     "metadata": {},
     "output_type": "display_data"
    }
   ],
   "source": [
    "universe = openmc.Universe(cells=root)\n",
    "\n",
    "universe.plot(origin=(0.0, 0.0, 0.0), basis='xz', width=[1600, 1200], pixels=[400, 400], color_by='material')\n",
    "plt.show()\n",
    "\n",
    "universe.plot(origin=(0.0, 000, 0.0), basis='xy', width=[1600, 1400], pixels=[400, 400], color_by='material')\n",
    "plt.show()"
   ]
  },
  {
   "cell_type": "code",
   "execution_count": null,
   "metadata": {},
   "outputs": [],
   "source": []
  }
 ],
 "metadata": {
  "kernelspec": {
   "display_name": "openmc_env",
   "language": "python",
   "name": "python3"
  },
  "language_info": {
   "codemirror_mode": {
    "name": "ipython",
    "version": 3
   },
   "file_extension": ".py",
   "mimetype": "text/x-python",
   "name": "python",
   "nbconvert_exporter": "python",
   "pygments_lexer": "ipython3",
   "version": "3.10.8"
  },
  "orig_nbformat": 4
 },
 "nbformat": 4,
 "nbformat_minor": 2
}
