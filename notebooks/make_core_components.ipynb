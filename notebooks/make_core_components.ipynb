{
 "cells": [
  {
   "cell_type": "markdown",
   "metadata": {},
   "source": [
    "# Create components in the core group"
   ]
  },
  {
   "cell_type": "markdown",
   "metadata": {},
   "source": [
    "The \"core group\" is just a convention used in this package. It contains:\n",
    "- The plasma\n",
    "- The vacuum between the plasma and the vessel (arbitrarily called here SOL-vacuum)\n",
    "- The vacuum vessel\n",
    "- The blanket\n",
    "- The neutron shield\n",
    "\n",
    "In the future some more versatility will be added:\n",
    "- First wall component\n",
    "- Blanket outer boundary will be able to have a different shape than the inner (not only a vessel polygon offset then)\n",
    "- possibility of adding dedicated shield components that do not embed the whole blanket (it can be done via the [Polygon](https://docs.openmc.org/en/stable/pythonapi/generated/openmc.model.Polygon.html?highlight=polygon) class already)\n",
    "- Add a channel layer in the vacuum vessel (or multiple structural layers)"
   ]
  },
  {
   "cell_type": "code",
   "execution_count": 1,
   "metadata": {},
   "outputs": [],
   "source": [
    "import openmc\n",
    "import tokamak_radiation_environment as tre\n",
    "import matplotlib.pyplot as plt"
   ]
  },
  {
   "cell_type": "markdown",
   "metadata": {},
   "source": [
    "### Disclaimer \n",
    "\n",
    "Leghts are in [cm]\n",
    "\n",
    "All the components proposed here are built with the [openmc.model.Polygon](https://docs.openmc.org/en/stable/pythonapi/generated/openmc.model.Polygon.html?highlight=polygon) class of openmc. It is then possible to directly use that class for more versatility already.\n",
    "\n",
    "The [openmc.model.Polygon](https://docs.openmc.org/en/stable/pythonapi/generated/openmc.model.Polygon.html?highlight=polygon) class requires a list of points coordinates that will be connected by lines. Coordinates are given by a couple of floating numbers and can refer to any of the 'xy', 'xz', 'yz' or 'rz' planes. The polygon gets then 'extruded' on the direction perpendicular to the reference plane for an undefined extension. In the case of 'rz' plane the extrusion is revolved around the z plane which is helpful in order to design toroidal geometries."
   ]
  },
  {
   "cell_type": "code",
   "execution_count": 2,
   "metadata": {},
   "outputs": [],
   "source": [
    "# import materials\n",
    "eurofer = tre.materials.eurofer97\n",
    "flibe = tre.materials.flibe\n",
    "wc = tre.materials.wc"
   ]
  },
  {
   "cell_type": "markdown",
   "metadata": {},
   "source": [
    "## Component objects"
   ]
  },
  {
   "cell_type": "markdown",
   "metadata": {},
   "source": [
    "All the components have a \"angle\" argument that allows the user build just a slice of the tokamak using cutter planes perpendicular to the 'xy' plane. The angle must be a tuple of two angles defined in degrees.\n",
    "\n",
    "The plasma component needs the nodes coordinates (in 'rz' plane by default) for the plasma outer boundary. The vessel component needs the inner nodes coordinates (surface clostest to the plasma).\n",
    "\n",
    "We here provide an easy example with the ARC-class nodes."
   ]
  },
  {
   "cell_type": "code",
   "execution_count": 3,
   "metadata": {},
   "outputs": [],
   "source": [
    "plasma_nodes = (\n",
    "    [443, 0],\n",
    "    [435, 35],\n",
    "    [417, 73],\n",
    "    [392, 113],\n",
    "    [356, 156],\n",
    "    [312, 193],\n",
    "    [295, 199],\n",
    "    [281, 196],\n",
    "    [272, 185],\n",
    "    [260, 156],\n",
    "    [240, 92],\n",
    "    [223, 36],\n",
    "    [217, 0],\n",
    "    [223, -36],\n",
    "    [240, -92],\n",
    "    [260, -156],\n",
    "    [272, -185],\n",
    "    [281, -196],\n",
    "    [295, -199],\n",
    "    [312, -193],\n",
    "    [356, -156],\n",
    "    [392, -113],\n",
    "    [417, -73],\n",
    "    [435, -35]\n",
    ")\n",
    "\n",
    "vessel_nodes = (\n",
    "    [454, 0],\n",
    "    [453, 22],\n",
    "    [435, 89],\n",
    "    [334, 197],\n",
    "    [322, 207],\n",
    "    [287, 227],\n",
    "    [248, 225],\n",
    "    [247, 204],\n",
    "    [243, 183],\n",
    "    [223, 119],\n",
    "    [210, 36],\n",
    "    [209, 0],\n",
    "    [210, -36],\n",
    "    [223, -119],\n",
    "    [243, -183],\n",
    "    [247, -204],\n",
    "    [248, -225],\n",
    "    [287, -227],\n",
    "    [322, -207],\n",
    "    [334, -197],\n",
    "    [435, -89],\n",
    "    [453, -22]  # Closing vertex to complete the hexagon\n",
    ")"
   ]
  },
  {
   "cell_type": "markdown",
   "metadata": {},
   "source": [
    "#### Plasma component"
   ]
  },
  {
   "cell_type": "code",
   "execution_count": 4,
   "metadata": {},
   "outputs": [],
   "source": [
    "# Plasma\n",
    "plasma = tre.components.Plasma(outer_nodes=plasma_nodes, material=None, surf_offset=0., angle=None)"
   ]
  },
  {
   "cell_type": "markdown",
   "metadata": {},
   "source": [
    "In OpenMC with constructive solid geometry every body has its surfaces, its region and its cell. With 'tre' it is possible to extract all of them. Cells being the most important for the simulation."
   ]
  },
  {
   "cell_type": "code",
   "execution_count": 5,
   "metadata": {},
   "outputs": [
    {
     "name": "stdout",
     "output_type": "stream",
     "text": [
      "Surfaces: <Polygon at 0x7fa98a64b3d0>\n",
      "Region: ((((145 -146) | 146) ((147 -148) | 148) (-149 150) (-151 152) ((153 154) | -154) ((155 156) | -156) (-157 -158) (-159 -160) ((161 -162) | 162) ((163 -164) | 164) ((165 -166) | 166) ((167 -168) | 168) (-169 170) (-171 172) (-173 174) (-175 176) ((177 178) | -178) ((179 180) | -180) ((181 182) | -182) ((183 184) | -184) (-185 -186) (-187 -188) (-189 -190) (-191 -192)))\n",
      "Cell: Cell\n",
      "\tID             =\t1\n",
      "\tName           =\t\n",
      "\tFill           =\tNone\n",
      "\tRegion         =\t((((241 -242) | 242) ((243 -244) | 244) (-245 246) (-247 248) ((249 250) | -250) ((251 252) | -252) (-253 -254) (-255 -256) ((257 -258) | 258) ((259 -260) | 260) ((261 -262) | 262) ((263 -264) | 264) (-265 266) (-267 268) (-269 270) (-271 272) ((273 274) | -274) ((275 276) | -276) ((277 278) | -278) ((279 280) | -280) (-281 -282) (-283 -284) (-285 -286) (-287 -288)))\n",
      "\tRotation       =\tNone\n",
      "\tTranslation    =\tNone\n",
      "\tVolume         =\tNone\n",
      "\n"
     ]
    }
   ],
   "source": [
    "print(f'Surfaces: {plasma.surfaces}')\n",
    "print(f'Region: {plasma.region}')\n",
    "print(f'Cell: {plasma.cell}')"
   ]
  },
  {
   "cell_type": "markdown",
   "metadata": {},
   "source": [
    "#### Vacuum vessel component"
   ]
  },
  {
   "cell_type": "code",
   "execution_count": 6,
   "metadata": {},
   "outputs": [],
   "source": [
    "# Vessel\n",
    "\n",
    "vessel = tre.components.VacuumVessel(inner_nodes=vessel_nodes, thickness=5., material=eurofer, angle=None)"
   ]
  },
  {
   "cell_type": "markdown",
   "metadata": {},
   "source": [
    "#### SOL-vacuum component\n",
    "The SOL-vacuum component is defined as the volume between the plasma outer surface and the vessel inner surface. It then needa both the plasma component and the vessel component. From them it estracts their nodes and fills the space in between."
   ]
  },
  {
   "cell_type": "code",
   "execution_count": 7,
   "metadata": {},
   "outputs": [],
   "source": [
    "# SOL vacuum\n",
    "\n",
    "sol = tre.components.SOLVacuum(plasma=plasma, vacuum_vessel=vessel, material=None, angle=None)"
   ]
  },
  {
   "cell_type": "markdown",
   "metadata": {},
   "source": [
    "#### Blanket component\n",
    "The blanket uses the same vacuum vessel inner nodes from which it adds the vessel thickness to find the blanket inner surface and the blanket thickness in order to find the outer blanket surface. It then requires the vessel component as argument in order to extract the nodes and the vessel thickness.\n",
    "\n",
    "info: blanket accepts also a \"nodes\" argument which can be used in place of the 'thickness' in order to provide a different shape for the blanket outer surface."
   ]
  },
  {
   "cell_type": "code",
   "execution_count": 8,
   "metadata": {},
   "outputs": [],
   "source": [
    "# Blanket\n",
    "\n",
    "blanket = tre.components.Blanket(vacuum_vessel=vessel, thickness=50, material=flibe, nodes=None, angle=None)"
   ]
  },
  {
   "cell_type": "markdown",
   "metadata": {},
   "source": [
    "#### Shield component"
   ]
  },
  {
   "cell_type": "markdown",
   "metadata": {},
   "source": [
    "The shield requires the blanket component in order to extract the blanket outer surface nodes and offset them outwards according to the thickness provided."
   ]
  },
  {
   "cell_type": "code",
   "execution_count": 9,
   "metadata": {},
   "outputs": [],
   "source": [
    "# Shield\n",
    "\n",
    "shield = tre.components.Shield(blanket=blanket, thickness=30, material=wc, nodes=None, angle=None)"
   ]
  },
  {
   "cell_type": "markdown",
   "metadata": {},
   "source": [
    "## Core group function\n",
    "The core group function helps to generate all the component objects in the core in just one call. It can used as alternative to the workflow that builds component by component presented just above.\n",
    "It is necessary to provide:\n",
    "- plasma_outer_nodes: coordinates of the nodes for building the plasma polygon\n",
    "- plasma_material: material for filling the plasma cell (defaults to None, namely void)\n",
    "- vessel_inner_nodes: coordinates of the nodes for building the vacuum vessel inner polygon \n",
    "- (the \"sol\" component gets created as the space between the plasma_outer_nodes and the vessel_inner_nodes)\n",
    "- vessel_thickness: offsets the vessel_inner_nodes outwards by this value (cm)\n",
    "- vessel_material: material for the vacuum vessel component\n",
    "- blanket_thickness: offsets the vessel_inner_nodes outwards by this value plus the vessel thickness (cm)\n",
    "- blanket_material: material for the blanket component\n",
    "- shield_thickness: offsets the vessel_inner_nodes outwards by this value plus plus the blanket thickness the vessel thickness (cm)\n",
    "- shield_material: material for the shield component\n",
    "- angle: instead of a 360 deg tokamak get a slice equal to this angle (deg) in the domain [-angle/2, +angle/2)"
   ]
  },
  {
   "cell_type": "code",
   "execution_count": 10,
   "metadata": {},
   "outputs": [],
   "source": [
    "# core\n",
    "plasma, sol, vessel, blanket, shield = tre.components.core_group(\n",
    "    plasma_outer_nodes=plasma_nodes, plasma_material=None,\n",
    "    vessel_inner_nodes=vessel_nodes, vessel_thickness=5., vessel_material=eurofer,\n",
    "    blanket_thickness=55, blanket_material=flibe,\n",
    "    shield_thickness=30, shield_material=wc,\n",
    "    angle=None)"
   ]
  },
  {
   "cell_type": "markdown",
   "metadata": {},
   "source": [
    "### Collect the cells in openmc geometry"
   ]
  },
  {
   "cell_type": "code",
   "execution_count": 11,
   "metadata": {},
   "outputs": [],
   "source": [
    "root = [plasma.cell, vessel.cell, sol.cell, blanket.cell, shield.cell]\n",
    "\n",
    "geometry = openmc.Geometry(root=root)"
   ]
  },
  {
   "cell_type": "markdown",
   "metadata": {},
   "source": [
    "## Visualize geometry"
   ]
  },
  {
   "cell_type": "code",
   "execution_count": 12,
   "metadata": {},
   "outputs": [
    {
     "data": {
      "image/png": "[encoded data removed]",
      "text/plain": [
       "<Figure size 1032.26x1038.96 with 1 Axes>"
      ]
     },
     "metadata": {},
     "output_type": "display_data"
    },
    {
     "data": {
      "image/png": "[encoded data removed]",
      "text/plain": [
       "<Figure size 1032.26x1038.96 with 1 Axes>"
      ]
     },
     "metadata": {},
     "output_type": "display_data"
    }
   ],
   "source": [
    "universe = openmc.Universe(cells=root)\n",
    "\n",
    "universe.plot(basis='xz', width=[1300, 1300], pixels=[800, 800], color_by='cell')\n",
    "plt.show()\n",
    "\n",
    "universe.plot(basis='xy', width=[1300, 1300], pixels=[800, 800], color_by='cell')\n",
    "plt.show()"
   ]
  },
  {
   "cell_type": "code",
   "execution_count": null,
   "metadata": {},
   "outputs": [],
   "source": []
  }
 ],
 "metadata": {
  "kernelspec": {
   "display_name": "openmc_env",
   "language": "python",
   "name": "python3"
  },
  "language_info": {
   "codemirror_mode": {
    "name": "ipython",
    "version": 3
   },
   "file_extension": ".py",
   "mimetype": "text/x-python",
   "name": "python",
   "nbconvert_exporter": "python",
   "pygments_lexer": "ipython3",
   "version": "3.10.8"
  },
  "orig_nbformat": 4
 },
 "nbformat": 4,
 "nbformat_minor": 2
}
