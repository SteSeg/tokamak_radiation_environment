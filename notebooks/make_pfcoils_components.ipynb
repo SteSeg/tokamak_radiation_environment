{
 "cells": [
  {
   "cell_type": "markdown",
   "metadata": {},
   "source": [
    "# Create components in the PF coil group"
   ]
  },
  {
   "cell_type": "markdown",
   "metadata": {},
   "source": [
    "The \"PF coil group\" is just a convention used in this package. It contains:\n",
    "- The superconductor component (PFCoilMagnet)\n",
    "- The thermal insulation component (PFCoilInsulation)\n",
    "- The case/structure body component (PFCoilCase)\n",
    "\n",
    "The Central Solenoid components can be built in exactly the same way"
   ]
  },
  {
   "cell_type": "code",
   "execution_count": 1,
   "metadata": {},
   "outputs": [],
   "source": [
    "import openmc\n",
    "import tokamak_radiation_environment as tre\n",
    "import matplotlib.pyplot as plt"
   ]
  },
  {
   "cell_type": "markdown",
   "metadata": {},
   "source": [
    "### Disclaimer \n",
    "\n",
    "Leghts are in [cm]\n",
    "\n",
    "All the components proposed here are built with the [openmc.model.Polygon](https://docs.openmc.org/en/stable/pythonapi/generated/openmc.model.Polygon.html?highlight=polygon) class of openmc. It is then possible to directly use that class for more versatility already.\n",
    "\n",
    "The [openmc.model.Polygon](https://docs.openmc.org/en/stable/pythonapi/generated/openmc.model.Polygon.html?highlight=polygon) class requires a list of points coordinates that will be connected by lines. Coordinates are given by a couple of floating numbers and can refer to any of the 'xy', 'xz', 'yz' or 'rz' planes. The polygon gets then 'extruded' on the direction perpendicular to the reference plane for an undefined extension. In the case of 'rz' plane the extrusion is revolved around the z plane which is helpful in order to design toroidal geometries."
   ]
  },
  {
   "cell_type": "code",
   "execution_count": 2,
   "metadata": {},
   "outputs": [],
   "source": [
    "# import materials\n",
    "ss316L = tre.materials.ss316L\n",
    "windingpack = tre.materials.windingpack\n",
    "fiberglass = tre.materials.fiberglass"
   ]
  },
  {
   "cell_type": "markdown",
   "metadata": {},
   "source": [
    "## Component objects"
   ]
  },
  {
   "cell_type": "markdown",
   "metadata": {},
   "source": [
    "All the components have a \"angle\" argument that allows the user build just a slice of the tokamak using cutter planes perpendicular to the 'xy' plane. The angle must be a tuple of two angles defined in degrees.\n",
    "\n",
    "The PFCoilMagnet component needs the nodes coordinates (in 'rz' plane by default) for the magnet boundary. All the other components take the magnet nodes and offset them autwards according to their thickness provided by the user.\n",
    "\n",
    "We here provide an easy example with the ARC-class nodes."
   ]
  },
  {
   "cell_type": "code",
   "execution_count": 3,
   "metadata": {},
   "outputs": [],
   "source": [
    "pf_nodes = (\n",
    "    [1165, 195],\n",
    "    [1165, 225],\n",
    "    [1135, 225],\n",
    "    [1135, 195]\n",
    ")"
   ]
  },
  {
   "cell_type": "markdown",
   "metadata": {},
   "source": [
    "#### Magnet component"
   ]
  },
  {
   "cell_type": "code",
   "execution_count": 4,
   "metadata": {},
   "outputs": [],
   "source": [
    "pf_magnet = tre.components.PFCoilMagnet(nodes=pf_nodes, material=windingpack, angle=None)"
   ]
  },
  {
   "cell_type": "markdown",
   "metadata": {},
   "source": [
    "In OpenMC with constructive solid geometry every body has its surfaces, its region and its cell. With 'tre' it is possible to extract all of them. Cells being the most important for the simulation."
   ]
  },
  {
   "cell_type": "code",
   "execution_count": 5,
   "metadata": {},
   "outputs": [
    {
     "name": "stdout",
     "output_type": "stream",
     "text": [
      "Surfaces: <Polygon at 0x7f4f6d84dfc0>\n",
      "Region: ((-5 -6 7 8))\n",
      "Cell: Cell\n",
      "\tID             =\t1\n",
      "\tName           =\t\n",
      "\tFill           =\tMaterial 34\n",
      "\tRegion         =\t((-9 -10 11 12))\n",
      "\tRotation       =\tNone\n",
      "\tTemperature    =\tNone\n",
      "\tTranslation    =\tNone\n",
      "\tVolume         =\tNone\n",
      "\n"
     ]
    }
   ],
   "source": [
    "print(f'Surfaces: {pf_magnet.surfaces}')\n",
    "print(f'Region: {pf_magnet.region}')\n",
    "print(f'Cell: {pf_magnet.cell}')"
   ]
  },
  {
   "cell_type": "markdown",
   "metadata": {},
   "source": [
    "#### Insulation component\n",
    "\n",
    "The insulation uses the same magnet's nodes from which it adds the insulation thickness in order to find the outer insulation surface. It then requires the magnet component as argument in order to extract the nodes."
   ]
  },
  {
   "cell_type": "code",
   "execution_count": 6,
   "metadata": {},
   "outputs": [],
   "source": [
    "insulation = tre.components.PFCoilInsulation(pf_coil_magnet=pf_magnet, thickness=10, material=fiberglass, angle=None)"
   ]
  },
  {
   "cell_type": "markdown",
   "metadata": {},
   "source": [
    "#### Case component\n",
    "The case uses the same magnet's nodes from which it adds the insulation thickness and the case thickness in order to find the outer insulation surface. It then requires the magnet component and the insulation component as arguments in order to extract nodes and thickness."
   ]
  },
  {
   "cell_type": "code",
   "execution_count": 7,
   "metadata": {},
   "outputs": [],
   "source": [
    "case = tre.components.PFCoilCase(pf_coil_magnet=pf_magnet, thickness=20, material=ss316L, pf_coil_insulation=insulation, angle=None)"
   ]
  },
  {
   "cell_type": "markdown",
   "metadata": {},
   "source": [
    "## PF coil group function\n",
    "The PF coil group function helps to generate all the component objects in the PF coil in just one call. It can used as alternative to the workflow that builds component by component presented just above.\n",
    "It is necessary to provide:\n",
    "- The magnet componet nodes\n",
    "- The magnet component material\n",
    "- The insulation component thickness\n",
    "- The insulation component material\n",
    "- The case component thickness\n",
    "- The case component material"
   ]
  },
  {
   "cell_type": "code",
   "execution_count": 8,
   "metadata": {},
   "outputs": [],
   "source": [
    "magnet, insulation, case = tre.components.pfcoil_group(\n",
    "    magnet_nodes=pf_nodes, magnet_material=windingpack,\n",
    "    insulation_thickness=10, insulation_material=fiberglass,\n",
    "    case_thickness=20, case_material=ss316L,\n",
    "    angle=None)"
   ]
  },
  {
   "cell_type": "markdown",
   "metadata": {},
   "source": [
    "### Collect the cells in openmc geometry"
   ]
  },
  {
   "cell_type": "code",
   "execution_count": 9,
   "metadata": {},
   "outputs": [],
   "source": [
    "root = [pf_magnet.cell, insulation.cell, case.cell]\n",
    "\n",
    "geometry = openmc.Geometry(root=root)"
   ]
  },
  {
   "cell_type": "markdown",
   "metadata": {},
   "source": [
    "## Visualize geometry"
   ]
  },
  {
   "cell_type": "code",
   "execution_count": 10,
   "metadata": {},
   "outputs": [
    {
     "data": {
      "image/png": "[encoded data removed]",
      "text/plain": [
       "<Figure size 516.129x519.481 with 1 Axes>"
      ]
     },
     "metadata": {},
     "output_type": "display_data"
    },
    {
     "data": {
      "image/png": "[encoded data removed]",
      "text/plain": [
       "<Figure size 516.129x519.481 with 1 Axes>"
      ]
     },
     "metadata": {},
     "output_type": "display_data"
    }
   ],
   "source": [
    "universe = openmc.Universe(cells=root)\n",
    "\n",
    "universe.plot(origin=(0, 0, 0), basis='xz', width=[2600, 1000], pixels=[400, 400], color_by='cell')\n",
    "plt.show()\n",
    "\n",
    "universe.plot(origin=(0, 0, 200), basis='xy', width=[2600, 2600], pixels=[400, 400], color_by='cell')\n",
    "plt.show()"
   ]
  },
  {
   "cell_type": "code",
   "execution_count": null,
   "metadata": {},
   "outputs": [],
   "source": []
  }
 ],
 "metadata": {
  "kernelspec": {
   "display_name": "openmc_env",
   "language": "python",
   "name": "python3"
  },
  "language_info": {
   "codemirror_mode": {
    "name": "ipython",
    "version": 3
   },
   "file_extension": ".py",
   "mimetype": "text/x-python",
   "name": "python",
   "nbconvert_exporter": "python",
   "pygments_lexer": "ipython3",
   "version": "3.10.8"
  },
  "orig_nbformat": 4
 },
 "nbformat": 4,
 "nbformat_minor": 2
}
