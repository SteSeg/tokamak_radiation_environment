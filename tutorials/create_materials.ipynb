{
 "cells": [
  {
   "cell_type": "markdown",
   "metadata": {},
   "source": [
    "# Create or import openmc materials"
   ]
  },
  {
   "cell_type": "code",
   "execution_count": 1,
   "metadata": {},
   "outputs": [],
   "source": [
    "import openmc\n",
    "import tokamak_radiation_environment as tre"
   ]
  },
  {
   "cell_type": "markdown",
   "metadata": {},
   "source": [
    "## Example with FLiBe"
   ]
  },
  {
   "cell_type": "markdown",
   "metadata": {},
   "source": [
    "### Classic openmc material maker with Python API\n",
    "More about it in [openmc.Material](https://docs.openmc.org/en/stable/pythonapi/generated/openmc.Material.html#openmc.Material) and [example notebook](https://nbviewer.org/github/openmc-dev/openmc-notebooks/blob/main/pincell.ipynb)"
   ]
  },
  {
   "cell_type": "code",
   "execution_count": 2,
   "metadata": {},
   "outputs": [
    {
     "ename": "ValueError",
     "evalue": "Unable to set \"percent type\" to \"o\" since it is not in \"{'ao', 'wo'}\"",
     "output_type": "error",
     "traceback": [
      "\u001b[0;31m---------------------------------------------------------------------------\u001b[0m",
      "\u001b[0;31mValueError\u001b[0m                                Traceback (most recent call last)",
      "\u001b[1;32m/home/segantin/openmc_models/models/tokamak_radiation_environment/tutorials/create_materials.ipynb Cell 5\u001b[0m line \u001b[0;36m8\n\u001b[1;32m      <a href='vscode-notebook-cell://wsl%2Bubuntu/home/segantin/openmc_models/models/tokamak_radiation_environment/tutorials/create_materials.ipynb#W1sdnNjb2RlLXJlbW90ZQ%3D%3D?line=5'>6</a>\u001b[0m flibe\u001b[39m.\u001b[39madd_element(\u001b[39m'\u001b[39m\u001b[39mF\u001b[39m\u001b[39m'\u001b[39m, \u001b[39m4.0\u001b[39m, \u001b[39m'\u001b[39m\u001b[39mao\u001b[39m\u001b[39m'\u001b[39m)\n\u001b[1;32m      <a href='vscode-notebook-cell://wsl%2Bubuntu/home/segantin/openmc_models/models/tokamak_radiation_environment/tutorials/create_materials.ipynb#W1sdnNjb2RlLXJlbW90ZQ%3D%3D?line=6'>7</a>\u001b[0m flibe\u001b[39m.\u001b[39madd_element(\u001b[39m'\u001b[39m\u001b[39mLi\u001b[39m\u001b[39m'\u001b[39m, \u001b[39m2.0\u001b[39m, \u001b[39m'\u001b[39m\u001b[39mao\u001b[39m\u001b[39m'\u001b[39m)\n\u001b[0;32m----> <a href='vscode-notebook-cell://wsl%2Bubuntu/home/segantin/openmc_models/models/tokamak_radiation_environment/tutorials/create_materials.ipynb#W1sdnNjb2RlLXJlbW90ZQ%3D%3D?line=7'>8</a>\u001b[0m flibe\u001b[39m.\u001b[39;49madd_element(\u001b[39m'\u001b[39;49m\u001b[39mBe\u001b[39;49m\u001b[39m'\u001b[39;49m, \u001b[39m1.0\u001b[39;49m, \u001b[39m'\u001b[39;49m\u001b[39mo\u001b[39;49m\u001b[39m'\u001b[39;49m)\n\u001b[1;32m      <a href='vscode-notebook-cell://wsl%2Bubuntu/home/segantin/openmc_models/models/tokamak_radiation_environment/tutorials/create_materials.ipynb#W1sdnNjb2RlLXJlbW90ZQ%3D%3D?line=8'>9</a>\u001b[0m \u001b[39m# Add density\u001b[39;00m\n\u001b[1;32m     <a href='vscode-notebook-cell://wsl%2Bubuntu/home/segantin/openmc_models/models/tokamak_radiation_environment/tutorials/create_materials.ipynb#W1sdnNjb2RlLXJlbW90ZQ%3D%3D?line=9'>10</a>\u001b[0m flibe\u001b[39m.\u001b[39mset_density(\u001b[39m'\u001b[39m\u001b[39mg/cm3\u001b[39m\u001b[39m'\u001b[39m, \u001b[39m1.960\u001b[39m)\n",
      "File \u001b[0;32m~/miniconda3/envs/openmc_env/lib/python3.10/site-packages/openmc/material.py:681\u001b[0m, in \u001b[0;36mMaterial.add_element\u001b[0;34m(self, element, percent, percent_type, enrichment, enrichment_target, enrichment_type)\u001b[0m\n\u001b[1;32m    679\u001b[0m cv\u001b[39m.\u001b[39mcheck_type(\u001b[39m'\u001b[39m\u001b[39mnuclide\u001b[39m\u001b[39m'\u001b[39m, element, \u001b[39mstr\u001b[39m)\n\u001b[1;32m    680\u001b[0m cv\u001b[39m.\u001b[39mcheck_type(\u001b[39m'\u001b[39m\u001b[39mpercent\u001b[39m\u001b[39m'\u001b[39m, percent, Real)\n\u001b[0;32m--> 681\u001b[0m cv\u001b[39m.\u001b[39;49mcheck_value(\u001b[39m'\u001b[39;49m\u001b[39mpercent type\u001b[39;49m\u001b[39m'\u001b[39;49m, percent_type, {\u001b[39m'\u001b[39;49m\u001b[39mao\u001b[39;49m\u001b[39m'\u001b[39;49m, \u001b[39m'\u001b[39;49m\u001b[39mwo\u001b[39;49m\u001b[39m'\u001b[39;49m})\n\u001b[1;32m    683\u001b[0m \u001b[39m# Make sure element name is just that\u001b[39;00m\n\u001b[1;32m    684\u001b[0m \u001b[39mif\u001b[39;00m \u001b[39mnot\u001b[39;00m element\u001b[39m.\u001b[39misalpha():\n",
      "File \u001b[0;32m~/miniconda3/envs/openmc_env/lib/python3.10/site-packages/openmc/checkvalue.py:191\u001b[0m, in \u001b[0;36mcheck_value\u001b[0;34m(name, value, accepted_values)\u001b[0m\n\u001b[1;32m    188\u001b[0m \u001b[39mif\u001b[39;00m value \u001b[39mnot\u001b[39;00m \u001b[39min\u001b[39;00m accepted_values:\n\u001b[1;32m    189\u001b[0m     msg \u001b[39m=\u001b[39m (\u001b[39mf\u001b[39m\u001b[39m'\u001b[39m\u001b[39mUnable to set \u001b[39m\u001b[39m\"\u001b[39m\u001b[39m{\u001b[39;00mname\u001b[39m}\u001b[39;00m\u001b[39m\"\u001b[39m\u001b[39m to \u001b[39m\u001b[39m\"\u001b[39m\u001b[39m{\u001b[39;00mvalue\u001b[39m}\u001b[39;00m\u001b[39m\"\u001b[39m\u001b[39m since it is not in \u001b[39m\u001b[39m'\u001b[39m\n\u001b[1;32m    190\u001b[0m            \u001b[39mf\u001b[39m\u001b[39m'\u001b[39m\u001b[39m\"\u001b[39m\u001b[39m{\u001b[39;00maccepted_values\u001b[39m}\u001b[39;00m\u001b[39m\"\u001b[39m\u001b[39m'\u001b[39m)\n\u001b[0;32m--> 191\u001b[0m     \u001b[39mraise\u001b[39;00m \u001b[39mValueError\u001b[39;00m(msg)\n",
      "\u001b[0;31mValueError\u001b[0m: Unable to set \"percent type\" to \"o\" since it is not in \"{'ao', 'wo'}\""
     ]
    }
   ],
   "source": [
    "# classic openmc material maker\n",
    "\n",
    "# Instantiate material\n",
    "flibe = openmc.Material(name='flibe')\n",
    "# Add elements\n",
    "flibe.add_element('F', 4.0, 'ao')\n",
    "flibe.add_element('Li', 2.0, 'ao')\n",
    "flibe.add_element('Be', 1.0, 'ao')\n",
    "# Add density\n",
    "flibe.set_density('g/cm3', 1.960)\n",
    "# Add temperature (optional)\n",
    "flibe.temperature = 300  # K\n",
    "\n",
    "# insert in material list\n",
    "materials = openmc.Materials([flibe])"
   ]
  },
  {
   "cell_type": "code",
   "execution_count": null,
   "metadata": {},
   "outputs": [
    {
     "data": {
      "text/plain": [
       "Material\n",
       "\tID             =\t35\n",
       "\tName           =\tflibe\n",
       "\tTemperature    =\t300\n",
       "\tDensity        =\t1.96 [g/cm3]\n",
       "\tVolume         =\tNone [cm^3]\n",
       "\tS(a,b) Tables  \n",
       "\tNuclides       \n",
       "\tF19            =\t4.0          [ao]\n",
       "\tLi6            =\t0.15178      [ao]\n",
       "\tLi7            =\t1.84822      [ao]\n",
       "\tBe9            =\t1.0          [ao]"
      ]
     },
     "execution_count": 3,
     "metadata": {},
     "output_type": "execute_result"
    }
   ],
   "source": [
    "# Visualize\n",
    "\n",
    "flibe"
   ]
  },
  {
   "cell_type": "markdown",
   "metadata": {},
   "source": [
    "### Tokamak Radiation Environment\n",
    "This package has a file called [materials.py](https://github.com/SteSeg/tokamak_radiation_environment/blob/master/src/tokamak_radiation_environment/materials.py) that is a database of fusion-relevan materials for openmc. In such files materials are defined exactly as flibe is defined here above. They are then easily importable.\n",
    "Among the materials available there are:\n",
    "- Lithium, FLiBe, Lithium-Lead, FLiNaK\n",
    "- Tungsten, Beryllium, Silver\n",
    "- SS316L, Inconel718, Nitronic50, Hastelloy-c276 V4Cr4Ti, eurofer97\n",
    "- B4C, WC, WB4\n",
    "- Nb3Sn, YBCO\n",
    "\n",
    "And many others."
   ]
  },
  {
   "cell_type": "code",
   "execution_count": null,
   "metadata": {},
   "outputs": [],
   "source": [
    "# Import flibe from tokamak_radiation_environmnent - materials\n",
    "\n",
    "# import\n",
    "flibe_from_tre = tre.materials.flibe\n",
    "\n",
    "# insert in material list\n",
    "materials = openmc.Materials([flibe_from_tre])"
   ]
  },
  {
   "cell_type": "code",
   "execution_count": null,
   "metadata": {},
   "outputs": [
    {
     "data": {
      "text/plain": [
       "Material\n",
       "\tID             =\t14\n",
       "\tName           =\tflibe\n",
       "\tTemperature    =\tNone\n",
       "\tDensity        =\t1.96 [g/cm3]\n",
       "\tVolume         =\tNone [cm^3]\n",
       "\tS(a,b) Tables  \n",
       "\tNuclides       \n",
       "\tF19            =\t4.0          [ao]\n",
       "\tLi6            =\t0.15178      [ao]\n",
       "\tLi7            =\t1.84822      [ao]\n",
       "\tBe9            =\t1.0          [ao]"
      ]
     },
     "execution_count": 6,
     "metadata": {},
     "output_type": "execute_result"
    }
   ],
   "source": [
    "# Visualize\n",
    "\n",
    "flibe_from_tre"
   ]
  },
  {
   "cell_type": "code",
   "execution_count": null,
   "metadata": {},
   "outputs": [],
   "source": []
  }
 ],
 "metadata": {
  "kernelspec": {
   "display_name": "openmc_env",
   "language": "python",
   "name": "python3"
  },
  "language_info": {
   "codemirror_mode": {
    "name": "ipython",
    "version": 3
   },
   "file_extension": ".py",
   "mimetype": "text/x-python",
   "name": "python",
   "nbconvert_exporter": "python",
   "pygments_lexer": "ipython3",
   "version": "3.10.8"
  },
  "orig_nbformat": 4
 },
 "nbformat": 4,
 "nbformat_minor": 2
}
