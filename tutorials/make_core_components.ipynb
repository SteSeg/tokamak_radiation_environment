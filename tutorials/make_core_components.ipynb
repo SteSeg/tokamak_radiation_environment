{
 "cells": [
  {
   "cell_type": "markdown",
   "metadata": {},
   "source": [
    "# Create components in the core group"
   ]
  },
  {
   "cell_type": "markdown",
   "metadata": {},
   "source": [
    "The \"core group\" is just a convention used in this package. It contains:\n",
    "- The plasma\n",
    "- The vacuum between the plasma and the vessel (arbitrarily called here SOL-void)\n",
    "- The vacuum vessel\n",
    "- The blanket\n",
    "- The neutron shield\n",
    "\n",
    "In the future some more versatility will be added:\n",
    "- First wall component\n",
    "- Blanket outer boundary will be able to have a different shape than the inner (not only a vessel polygon offset then)\n",
    "- possibility of adding dedicated shield components that do not embed the whole blanket (it can be done via the [Polygon](https://docs.openmc.org/en/stable/pythonapi/generated/openmc.model.Polygon.html?highlight=polygon) class already)\n",
    "- Add a channel layer in the vacuum vessel (or multiple structural layers)"
   ]
  },
  {
   "cell_type": "code",
   "execution_count": 1,
   "metadata": {},
   "outputs": [],
   "source": [
    "import openmc\n",
    "import tokamak_radiation_environment as tre"
   ]
  },
  {
   "cell_type": "markdown",
   "metadata": {},
   "source": [
    "### Disclaimer \n",
    "\n",
    "All the components proposed here are built with the [openmc.model.Polygon](https://docs.openmc.org/en/stable/pythonapi/generated/openmc.model.Polygon.html?highlight=polygon) class of openmc. It is then possible to directly use that class for more versatility already.\n",
    "\n",
    "The [openmc.model.Polygon](https://docs.openmc.org/en/stable/pythonapi/generated/openmc.model.Polygon.html?highlight=polygon) class requires a list of points coordinates that will be connected by lines. Coordinates are given by a couple of floating numbers and can refer to any of the 'xy', 'xz', 'yz' or 'rz' planes. The polygon gets then 'extruded' on the direction perpendicular to the reference plane for an undefined extension. In the case of 'rz' plane the extrusion is revolved around the z plane which is helpful in order to design toroidal geometries."
   ]
  },
  {
   "cell_type": "code",
   "execution_count": null,
   "metadata": {},
   "outputs": [],
   "source": [
    "# import some materials to ease the visualization\n",
    "eurofer = tre.materials.eurofer97\n",
    "flibe = tre.materials.flibe\n",
    "wc = tre.materials.wc"
   ]
  },
  {
   "cell_type": "markdown",
   "metadata": {},
   "source": [
    "## Component objects"
   ]
  },
  {
   "cell_type": "code",
   "execution_count": null,
   "metadata": {},
   "outputs": [],
   "source": []
  },
  {
   "cell_type": "markdown",
   "metadata": {},
   "source": [
    "## Core group function\n",
    "The core group function helps to generate all the component objects in the core in just one call. It is necessary to provide:\n",
    "- plasma_outer_nodes: coordinates of the nodes for building the plasma polygon\n",
    "- plasma_material: material for filling the plasma cell (defaults to None, namely void)\n",
    "- vessel_inner_nodes: coordinates of the nodes for building the vacuum vessel inner polygon \n",
    "- (the \"sol\" component gets created as the space between the plasma_outer_nodes and the vessel_inner_nodes)\n",
    "- vessel_thickness: offsets the vessel_inner_nodes outwards by this value (cm)\n",
    "- vessel_material: material for the vacuum vessel component\n",
    "- blanket_thickness: offsets the vessel_inner_nodes outwards by this value plus the vessel thickness (cm)\n",
    "- blanket_material: material for the blanket component\n",
    "- shield_thickness: offsets the vessel_inner_nodes outwards by this value plus plus the blanket thickness the vessel thickness (cm)\n",
    "- shield_material: material for the shield component\n",
    "- angle: instead of a 360 deg tokamak get a slice equal to this angle (deg) in the domain [-angle/2, +angle/2)"
   ]
  },
  {
   "cell_type": "code",
   "execution_count": null,
   "metadata": {},
   "outputs": [],
   "source": [
    "# core\n",
    "plasma, sol, vacuum_vessel, blanket, shield = tre.components.core_group(\n",
    "    plasma_outer_nodes=cn.plasma_out, plasma_material=dt_plasma,\n",
    "    vessel_inner_nodes=cn.vessel_in, vessel_thickness=5., vessel_material=eurofer,\n",
    "    blanket_thickness=55, blanket_material=flibe,\n",
    "    shield_thickness=30, shield_material=ss304,\n",
    "    angle=20)"
   ]
  }
 ],
 "metadata": {
  "kernelspec": {
   "display_name": "openmc_env",
   "language": "python",
   "name": "python3"
  },
  "language_info": {
   "codemirror_mode": {
    "name": "ipython",
    "version": 3
   },
   "file_extension": ".py",
   "mimetype": "text/x-python",
   "name": "python",
   "nbconvert_exporter": "python",
   "pygments_lexer": "ipython3",
   "version": "3.10.8"
  },
  "orig_nbformat": 4
 },
 "nbformat": 4,
 "nbformat_minor": 2
}
