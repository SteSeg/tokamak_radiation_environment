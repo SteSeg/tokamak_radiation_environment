{
 "cells": [
  {
   "cell_type": "code",
   "execution_count": 1,
   "metadata": {},
   "outputs": [],
   "source": [
    "import components\n",
    "import materials\n",
    "import openmc\n",
    "\n",
    "import math"
   ]
  },
  {
   "cell_type": "code",
   "execution_count": 2,
   "metadata": {},
   "outputs": [],
   "source": [
    "beryllium = materials.beryllium\n",
    "my_materials = openmc.Materials([beryllium])\n",
    "my_materials.export_to_xml()"
   ]
  },
  {
   "cell_type": "code",
   "execution_count": 3,
   "metadata": {},
   "outputs": [],
   "source": [
    "plasma_nodes = [[10, 0], [12, -1], [13, 0], [12,2]]\n",
    "vessel_nodes = [[9, 0], [12, -2], [14, 0], [12,3]]"
   ]
  },
  {
   "cell_type": "code",
   "execution_count": 4,
   "metadata": {},
   "outputs": [],
   "source": [
    "reflective_lower = openmc.YPlane(\n",
    "    y0=0, boundary_type='reflective').rotate([0, 0, -10])\n",
    "reflective_upper = openmc.YPlane(\n",
    "    y0=0, boundary_type='reflective').rotate([0, 0, 10])"
   ]
  },
  {
   "cell_type": "code",
   "execution_count": 5,
   "metadata": {},
   "outputs": [],
   "source": [
    "plasma = components.Plasma(nodes=plasma_nodes, boundary_1=reflective_lower, boundary_2=reflective_upper)\n",
    "vacuum_vessel = components.VacuumVessel(nodes=vessel_nodes, thickness=1, material=beryllium, boundary_1=reflective_lower, boundary_2=reflective_upper)\n",
    "sol = components.SOLVacuum(plasma=plasma, vacuum_vessel=vacuum_vessel, boundary_1=reflective_lower, boundary_2=reflective_upper)\n",
    "blanket = components.Blanket(vacuum_vessel = vacuum_vessel, thickness =1, material=beryllium, boundary_1=reflective_lower, boundary_2=reflective_upper)\n",
    "shield = components.Shield(blanket=blanket, thickness=1, material=beryllium, boundary_1=reflective_lower, boundary_2=reflective_upper)\n",
    "\n",
    "reactor_components = [plasma, vacuum_vessel, blanket, shield]"
   ]
  },
  {
   "cell_type": "code",
   "execution_count": 6,
   "metadata": {},
   "outputs": [],
   "source": [
    "sphere = openmc.Sphere(r=25, boundary_type='vacuum')\n",
    "enclosure_region = -sphere\n",
    "for rc in reactor_components:\n",
    "    enclosure_region = enclosure_region & ~(rc.region)\n",
    "enclosure_cell = openmc.Cell(region=enclosure_region, fill=None)"
   ]
  },
  {
   "cell_type": "code",
   "execution_count": 7,
   "metadata": {},
   "outputs": [],
   "source": [
    "geometry=openmc.Geometry([plasma.cell, vacuum_vessel.cell, sol.cell, blanket.cell, shield.cell, enclosure_cell])\n",
    "geometry.export_to_xml()"
   ]
  },
  {
   "cell_type": "code",
   "execution_count": 8,
   "metadata": {},
   "outputs": [
    {
     "name": "stderr",
     "output_type": "stream",
     "text": [
      "/home/segantin/openmc/openmc/source.py:388: FutureWarning: This class is deprecated in favor of 'IndependentSource'\n",
      "  warnings.warn(\"This class is deprecated in favor of 'IndependentSource'\", FutureWarning)\n"
     ]
    }
   ],
   "source": [
    "settings = openmc.Settings()\n",
    "\n",
    "settings.photon_transport = False\n",
    "settings.run_mode = 'fixed source'\n",
    "# source definition\n",
    "source = openmc.Source()\n",
    "source.particle = 'neutron'\n",
    "radius = openmc.stats.Discrete([620], [1])\n",
    "z_values = openmc.stats.Discrete([0], [1])\n",
    "angle = openmc.stats.Uniform(a=math.radians(0), b=math.radians(360))\n",
    "source.space = openmc.stats.CylindricalIndependent(\n",
    "    r=radius, phi=angle, z=z_values, origin=(0., 0., 0.))\n",
    "source.angle = openmc.stats.Isotropic()\n",
    "source.energy = openmc.stats.Discrete(14.1e6, 1)\n",
    "\n",
    "# settings' settings\n",
    "# weight windows from wwinp\n",
    "settings.source = source\n",
    "settings.survival_biasing = False\n",
    "settings.batches = 100\n",
    "settings.particles = int(1e6)\n",
    "\n",
    "settings.export_to_xml()"
   ]
  }
 ],
 "metadata": {
  "kernelspec": {
   "display_name": "Python 3",
   "language": "python",
   "name": "python3"
  },
  "language_info": {
   "codemirror_mode": {
    "name": "ipython",
    "version": 3
   },
   "file_extension": ".py",
   "mimetype": "text/x-python",
   "name": "python",
   "nbconvert_exporter": "python",
   "pygments_lexer": "ipython3",
   "version": "3.8.10"
  },
  "orig_nbformat": 4
 },
 "nbformat": 4,
 "nbformat_minor": 2
}
